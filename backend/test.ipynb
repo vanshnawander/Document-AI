{
 "cells": [
  {
   "cell_type": "code",
   "execution_count": 1,
   "metadata": {},
   "outputs": [],
   "source": [
    "import pandas as pd\n",
    "from tabula.io import read_pdf\n",
    "import sqlite3"
   ]
  },
  {
   "cell_type": "code",
   "execution_count": 2,
   "metadata": {},
   "outputs": [
    {
     "name": "stderr",
     "output_type": "stream",
     "text": [
      "Failed to import jpype dependencies. Fallback to subprocess.\n",
      "No module named 'jpype'\n"
     ]
    }
   ],
   "source": [
    "df = read_pdf(\"../ecipdf1.pdf\",pages='all') "
   ]
  },
  {
   "cell_type": "code",
   "execution_count": 3,
   "metadata": {},
   "outputs": [],
   "source": [
    "df= pd.concat(df,ignore_index=True)"
   ]
  },
  {
   "cell_type": "code",
   "execution_count": 4,
   "metadata": {},
   "outputs": [],
   "source": [
    "df.rename(columns={\n",
    "    'Sr No.': 'Sr_No',\n",
    "    'Reference No  (URN)': 'Reference_No_URN',\n",
    "    'Journal Date': 'Journal_Date',\n",
    "    'Date of\\rPurchase': 'Date_of_Purchase',\n",
    "    'Date of Expiry': 'Date_of_Expiry',\n",
    "    'Name of the Purchaser': 'Name_of_the_Purchaser',\n",
    "    'Prefix': 'Prefix',\n",
    "    'Bond\\rNumber': 'Bond_Number',\n",
    "    'Denominations': 'Denominations',\n",
    "    'Issue Branch Code': 'Issue_Branch_Code',\n",
    "    'Issue Teller': 'Issue_Teller',\n",
    "    'Status': 'Status'\n",
    "}, inplace=True)"
   ]
  },
  {
   "cell_type": "code",
   "execution_count": 5,
   "metadata": {},
   "outputs": [],
   "source": [
    "\n",
    "df['Journal_Date'] = pd.to_datetime(df['Journal_Date'])\n",
    "df['Date_of_Purchase'] = pd.to_datetime(df['Date_of_Purchase'], format='%d/%b/%Y')\n",
    "df['Date_of_Expiry'] = pd.to_datetime(df['Date_of_Expiry'], format='%d/%b/%Y')\n",
    "\n",
    "df['Denominations'] = df['Denominations'].str.replace(',', '').astype(int)\n",
    "df['Journal_Date'] = df['Journal_Date'].dt.strftime('%Y-%m-%d')\n",
    "df['Date_of_Purchase'] = df['Date_of_Purchase'].dt.strftime('%Y-%m-%d')\n",
    "df['Date_of_Expiry'] = df['Date_of_Expiry'].dt.strftime('%Y-%m-%d')\n",
    "\n",
    "\n",
    "conn = sqlite3.connect('data.db')\n",
    "\n",
    "c = conn.cursor()\n",
    "\n",
    "c.execute('''\n",
    "CREATE TABLE IF NOT EXISTS bonds (\n",
    "    Sr_No INTEGER,\n",
    "    Reference_No_URN TEXT,\n",
    "    Journal_Date TEXT,\n",
    "    Date_of_Purchase TEXT,\n",
    "    Date_of_Expiry TEXT,\n",
    "    Name_of_the_Purchaser TEXT,\n",
    "    Prefix TEXT,\n",
    "    Bond_Number INTEGER,\n",
    "    Denominations INTEGER,\n",
    "    Issue_Branch_Code INTEGER,\n",
    "    Issue_Teller INTEGER,\n",
    "    Status TEXT\n",
    ")\n",
    "''')\n",
    "\n",
    "\n",
    "df.to_sql('bonds', conn, if_exists='append', index=False)\n",
    "\n",
    "\n",
    "conn.commit()\n",
    "conn.close()"
   ]
  },
  {
   "cell_type": "code",
   "execution_count": 6,
   "metadata": {},
   "outputs": [],
   "source": [
    "df = read_pdf(\"../ecipdf2.pdf\",pages='all') "
   ]
  },
  {
   "cell_type": "code",
   "execution_count": 7,
   "metadata": {},
   "outputs": [],
   "source": [
    "df= pd.concat(df,ignore_index=True)"
   ]
  },
  {
   "cell_type": "code",
   "execution_count": 8,
   "metadata": {},
   "outputs": [],
   "source": [
    "df.rename(columns={\n",
    "    'Sr No.': 'Sr_No',\n",
    "    'Date of\\rEncashment': 'Date_of_Encashment',\n",
    "    'Name of the Political Party': 'Name_of_the_Political_Party',\n",
    "    'Account no. of\\rPolitical Party': 'Account_no_of_Political_Party',\n",
    "    'Prefix': 'Prefix',\n",
    "    'Bond\\rNumber': 'Bond_Number',\n",
    "    'Denominations': 'Denominations',\n",
    "    'Pay Branch\\rCode': 'Pay_Branch_Code',\n",
    "    'Pay Teller': 'Pay_Teller'\n",
    "}, inplace=True)"
   ]
  },
  {
   "cell_type": "code",
   "execution_count": 9,
   "metadata": {},
   "outputs": [],
   "source": [
    "df['Date_of_Encashment'] = pd.to_datetime(df['Date_of_Encashment'], format='%d/%b/%Y')\n",
    "df['Denominations'] = df['Denominations'].str.replace(',', '').astype(int)\n",
    "# Convert datetime columns to strings in the format suitable for SQL storage\n",
    "df['Date_of_Encashment'] = df['Date_of_Encashment'].dt.strftime('%Y-%m-%d')\n",
    "\n",
    "# Connect to SQLite database (or create it)\n",
    "conn = sqlite3.connect('data.db')\n",
    "\n",
    "# Create a cursor object\n",
    "c = conn.cursor()\n",
    "\n",
    "# Create table with appropriate data types\n",
    "c.execute('''\n",
    "CREATE TABLE IF NOT EXISTS political_bonds (\n",
    "    Sr_No INTEGER,\n",
    "    Date_of_Encashment TEXT,\n",
    "    Name_of_the_Political_Party TEXT,\n",
    "    Account_no_of_Political_Party TEXT,\n",
    "    Prefix TEXT,\n",
    "    Bond_Number INTEGER,\n",
    "    Denominations INTEGER,\n",
    "    Pay_Branch_Code TEXT,\n",
    "    Pay_Teller INTEGER\n",
    ")\n",
    "''')\n",
    "\n",
    "# Insert data into the table\n",
    "df.to_sql('political_bonds', conn, if_exists='append', index=False)\n",
    "\n",
    "# Commit the changes and close the connection\n",
    "conn.commit()\n",
    "conn.close()"
   ]
  },
  {
   "cell_type": "code",
   "execution_count": 11,
   "metadata": {},
   "outputs": [],
   "source": [
    "Query = '''SELECT SUM(Denominations) AS Total_Bond_Amount\n",
    "FROM bonds\n",
    "WHERE Name_of_the_Purchaser = 'CHOUDHARY GARMENTS'\n",
    "AND Date_of_Purchase = '2019-04-12';\n",
    "'''\n"
   ]
  },
  {
   "cell_type": "code",
   "execution_count": 15,
   "metadata": {},
   "outputs": [],
   "source": [
    "conn = sqlite3.connect('data.db')\n",
    "\n",
    "# Create a cursor object\n",
    "cursor = conn.cursor()"
   ]
  },
  {
   "cell_type": "code",
   "execution_count": 24,
   "metadata": {},
   "outputs": [
    {
     "name": "stdout",
     "output_type": "stream",
     "text": [
      "1000000\n"
     ]
    }
   ],
   "source": [
    "sql_query = \"\"\"\n",
    "SELECT SUM(pb.Denominations) AS Total_Amount\n",
    "FROM political_bonds pb\n",
    "JOIN bonds b ON pb.Prefix = b.Prefix AND pb.Bond_Number = b.Bond_Number\n",
    "WHERE pb.Name_of_the_Political_Party = 'AAM AADMI PARTY'\n",
    "AND b.Name_of_the_Purchaser = 'DR. MANDEEP SHARMA'\n",
    "AND strftime('%Y', pb.Date_of_Encashment) = '2022';\n",
    "\"\"\"\n",
    "\n",
    "try:\n",
    "    # Execute the SQL query\n",
    "    cursor.execute(sql_query)\n",
    "\n",
    "    # Fetch the result\n",
    "    total_bond_amount = cursor.fetchone()[0]\n",
    "\n",
    "    # Print the result\n",
    "    print( total_bond_amount)\n",
    "\n",
    "except sqlite3.Error as e:\n",
    "    print(\"Error executing SQLite query:\", e)\n"
   ]
  },
  {
   "cell_type": "code",
   "execution_count": 14,
   "metadata": {},
   "outputs": [
    {
     "name": "stdout",
     "output_type": "stream",
     "text": [
      "<sqlite3.Cursor object at 0x7435289a7340>\n"
     ]
    }
   ],
   "source": []
  }
 ],
 "metadata": {
  "kernelspec": {
   "display_name": "Python 3",
   "language": "python",
   "name": "python3"
  },
  "language_info": {
   "codemirror_mode": {
    "name": "ipython",
    "version": 3
   },
   "file_extension": ".py",
   "mimetype": "text/x-python",
   "name": "python",
   "nbconvert_exporter": "python",
   "pygments_lexer": "ipython3",
   "version": "3.12.3"
  }
 },
 "nbformat": 4,
 "nbformat_minor": 2
}
